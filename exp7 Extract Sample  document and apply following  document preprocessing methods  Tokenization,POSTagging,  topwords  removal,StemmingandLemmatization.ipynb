{
 "cells": [
  {
   "cell_type": "code",
   "execution_count": 21,
   "id": "48235f65",
   "metadata": {},
   "outputs": [],
   "source": [
    "import nltk \n",
    "from nltk.tokenize import word_tokenize \n",
    "from nltk.corpus import stopwords \n",
    "from nltk.stem import PorterStemmer, WordNetLemmatizer \n",
    "from nltk import pos_tag \n",
    "from sklearn.feature_extraction.text import TfidfVectorizer \n",
    "import string "
   ]
  },
  {
   "cell_type": "code",
   "execution_count": 22,
   "id": "f5df4d82",
   "metadata": {},
   "outputs": [
    {
     "name": "stderr",
     "output_type": "stream",
     "text": [
      "[nltk_data] Downloading package punkt_tab to C:\\Users\\GURU\n",
      "[nltk_data]     CHARAN\\AppData\\Roaming\\nltk_data...\n",
      "[nltk_data]   Unzipping tokenizers\\punkt_tab.zip.\n",
      "[nltk_data] Downloading package stopwords to C:\\Users\\GURU\n",
      "[nltk_data]     CHARAN\\AppData\\Roaming\\nltk_data...\n",
      "[nltk_data]   Package stopwords is already up-to-date!\n",
      "[nltk_data] Downloading package wordnet to C:\\Users\\GURU\n",
      "[nltk_data]     CHARAN\\AppData\\Roaming\\nltk_data...\n",
      "[nltk_data]   Package wordnet is already up-to-date!\n",
      "[nltk_data] Downloading package averaged_perceptron_tagger_eng to\n",
      "[nltk_data]     C:\\Users\\GURU CHARAN\\AppData\\Roaming\\nltk_data...\n",
      "[nltk_data]   Unzipping taggers\\averaged_perceptron_tagger_eng.zip.\n"
     ]
    },
    {
     "data": {
      "text/plain": [
       "True"
      ]
     },
     "execution_count": 22,
     "metadata": {},
     "output_type": "execute_result"
    }
   ],
   "source": [
    "nltk.download('punkt_tab') \n",
    "nltk.download('stopwords') \n",
    "nltk.download('wordnet') \n",
    "nltk.download('averaged_perceptron_tagger_eng')"
   ]
  },
  {
   "cell_type": "code",
   "execution_count": 23,
   "id": "2d21e8c1",
   "metadata": {},
   "outputs": [],
   "source": [
    "document =\"\"\" \n",
    "Natural Langauage processing is a field of AI It aims to enable to understand ,interpret and \n",
    "generate human langaueg \n",
    "\"\"\""
   ]
  },
  {
   "cell_type": "code",
   "execution_count": 24,
   "id": "06f54796",
   "metadata": {},
   "outputs": [],
   "source": [
    "tokens= word_tokenize(document) \n",
    "pos_tags = pos_tag(tokens) \n",
    "stop_words = set(stopwords.words('english')) \n",
    "filtered_tokens=[word for word in tokens if word.lower() not in stop_words and word not in \n",
    "string.punctuation] \n",
    "stemmer =PorterStemmer() \n",
    "stemmed_tokens=[stemmer.stem(word) for word in filtered_tokens] \n",
    "lemmatizer = WordNetLemmatizer() \n",
    "lemmatized_tokens =[lemmatizer.lemmatize(word)for word in filtered_tokens]"
   ]
  },
  {
   "cell_type": "code",
   "execution_count": 25,
   "id": "38780cc6",
   "metadata": {},
   "outputs": [
    {
     "name": "stdout",
     "output_type": "stream",
     "text": [
      "\n",
      " original doc\n",
      "  \n",
      "Natural Langauage processing is a field of AI It aims to enable to understand ,interpret and \n",
      "generate human langaueg \n",
      "\n",
      "\n",
      " tokens\n",
      " ['Natural', 'Langauage', 'processing', 'is', 'a', 'field', 'of', 'AI', 'It', 'aims', 'to', 'enable', 'to', 'understand', ',', 'interpret', 'and', 'generate', 'human', 'langaueg']\n",
      "\n",
      " pos tag\n",
      " <function pos_tag at 0x000001C0408AE520>\n",
      "\n",
      " filtered token after removed stop word removal\n",
      " ['Natural', 'Langauage', 'processing', 'field', 'AI', 'aims', 'enable', 'understand', 'interpret', 'generate', 'human', 'langaueg']\n",
      "\n",
      " stemmed tokens\n",
      " ['natur', 'langauag', 'process', 'field', 'ai', 'aim', 'enabl', 'understand', 'interpret', 'gener', 'human', 'langaueg']\n",
      "\n",
      " Lemmetaized Tokens\n",
      " ['Natural', 'Langauage', 'processing', 'field', 'AI', 'aim', 'enable', 'understand', 'interpret', 'generate', 'human', 'langaueg']\n"
     ]
    }
   ],
   "source": [
    "print(\"\\n original doc\\n\",document) \n",
    "print(\"\\n tokens\\n\", tokens) \n",
    "print(\"\\n pos tag\\n\",pos_tag) \n",
    "print(\"\\n filtered token after removed stop word removal\\n\", filtered_tokens) \n",
    "print(\"\\n stemmed tokens\\n\",stemmed_tokens) \n",
    "print(\"\\n Lemmetaized Tokens\\n\",lemmatized_tokens)"
   ]
  },
  {
   "cell_type": "code",
   "execution_count": 30,
   "id": "8f50a3b2",
   "metadata": {},
   "outputs": [],
   "source": [
    "corpus = [document]\n",
    "vectorizer = TfidfVectorizer()\n",
    "x = vectorizer.fit_transform(corpus)\n",
    "tfidf_matrix = x.toarray()\n",
    "terms = vectorizer.get_feature_names_out()"
   ]
  },
  {
   "cell_type": "code",
   "execution_count": 31,
   "id": "6d51043c",
   "metadata": {},
   "outputs": [
    {
     "name": "stdout",
     "output_type": "stream",
     "text": [
      "\n",
      "Term Frequency and Inverse Document Frequency (TF-IDF):\n",
      "Term: ai, TF-IDF: 0.2236\n",
      "Term: aims, TF-IDF: 0.2236\n",
      "Term: and, TF-IDF: 0.2236\n",
      "Term: enable, TF-IDF: 0.2236\n",
      "Term: field, TF-IDF: 0.2236\n",
      "Term: generate, TF-IDF: 0.2236\n",
      "Term: human, TF-IDF: 0.2236\n",
      "Term: interpret, TF-IDF: 0.2236\n",
      "Term: is, TF-IDF: 0.2236\n",
      "Term: it, TF-IDF: 0.2236\n",
      "Term: langauage, TF-IDF: 0.2236\n",
      "Term: langaueg, TF-IDF: 0.2236\n",
      "Term: natural, TF-IDF: 0.2236\n",
      "Term: of, TF-IDF: 0.2236\n",
      "Term: processing, TF-IDF: 0.2236\n",
      "Term: to, TF-IDF: 0.4472\n",
      "Term: understand, TF-IDF: 0.2236\n"
     ]
    }
   ],
   "source": [
    "print(\"\\nTerm Frequency and Inverse Document Frequency (TF-IDF):\")\n",
    "for i, term in enumerate(terms):\n",
    "    print(f\"Term: {term}, TF-IDF: {tfidf_matrix[0][i]:.4f}\")"
   ]
  },
  {
   "cell_type": "code",
   "execution_count": null,
   "id": "3ddf7af1",
   "metadata": {},
   "outputs": [],
   "source": []
  }
 ],
 "metadata": {
  "kernelspec": {
   "display_name": "Python 3",
   "language": "python",
   "name": "python3"
  },
  "language_info": {
   "codemirror_mode": {
    "name": "ipython",
    "version": 3
   },
   "file_extension": ".py",
   "mimetype": "text/x-python",
   "name": "python",
   "nbconvert_exporter": "python",
   "pygments_lexer": "ipython3",
   "version": "3.13.3"
  }
 },
 "nbformat": 4,
 "nbformat_minor": 5
}
