{
 "cells": [
  {
   "cell_type": "code",
   "execution_count": 7,
   "id": "c2ef2462",
   "metadata": {},
   "outputs": [],
   "source": [
    "import pandas as pd\n",
    "import numpy as np\n"
   ]
  },
  {
   "cell_type": "code",
   "execution_count": 8,
   "id": "5764115b",
   "metadata": {},
   "outputs": [],
   "source": [
    "data={'NAME':['jay','prince','nisha','neha','raj','riya'],\n",
    "      'Age':[17,20,21,18,19,25],\n",
    "      'Gender':['M','M','F','F','M','M'],\n",
    "      'Marks':[90,75,80,84,71,86]\n",
    "}\n"
   ]
  },
  {
   "cell_type": "code",
   "execution_count": 9,
   "id": "f0b6ec9e",
   "metadata": {},
   "outputs": [],
   "source": [
    "df = pd.DataFrame(data)"
   ]
  },
  {
   "cell_type": "code",
   "execution_count": 10,
   "id": "c9ca79bc",
   "metadata": {},
   "outputs": [
    {
     "name": "stdout",
     "output_type": "stream",
     "text": [
      "Original Data:\n",
      "     NAME  Age Gender  Marks\n",
      "0     jay   17      M     90\n",
      "1  prince   20      M     75\n",
      "2   nisha   21      F     80\n",
      "3    neha   18      F     84\n",
      "4     raj   19      M     71\n",
      "5    riya   25      M     86\n"
     ]
    }
   ],
   "source": [
    "print(\"Original Data:\")\n",
    "print(df)"
   ]
  },
  {
   "cell_type": "code",
   "execution_count": 11,
   "id": "1c602398",
   "metadata": {},
   "outputs": [],
   "source": [
    "data1 = {\n",
    "    'NAME': ['jay', 'prince', 'nisha', 'neha', 'raj', 'riya'],\n",
    "    'Age': [17, 20, 21, 18, 19, 25],\n",
    "    'Gender': ['M', 'M', 'F', 'F', 'M', 'M'],\n",
    "    'Marks': [90, 75, np.nan, 84, np.nan, 86]  # Proper missing values\n",
    "}"
   ]
  },
  {
   "cell_type": "code",
   "execution_count": null,
   "id": "1ea0a9ea",
   "metadata": {},
   "outputs": [
    {
     "name": "stdout",
     "output_type": "stream",
     "text": [
      "\n",
      "Data with Missing Marks:\n",
      "     NAME  Age Gender  Marks\n",
      "0     jay   17      M   90.0\n",
      "1  prince   20      M   75.0\n",
      "2   nisha   21      F    NaN\n",
      "3    neha   18      F   84.0\n",
      "4     raj   19      M    NaN\n",
      "5    riya   25      M   86.0\n"
     ]
    }
   ],
   "source": [
    "df2 = pd.DataFrame(data1)\n",
    "print(\"\\nData with Missing Marks:\")\n",
    "print(df2)"
   ]
  },
  {
   "cell_type": "code",
   "execution_count": 6,
   "id": "38914b27",
   "metadata": {},
   "outputs": [],
   "source": [
    "df['Gender'] = df['Gender'].map({'M': 0, 'F': 1}).astype(float)"
   ]
  },
  {
   "cell_type": "code",
   "execution_count": 7,
   "id": "57ac6266",
   "metadata": {},
   "outputs": [],
   "source": [
    "df = df[df['Marks'] > 75]"
   ]
  },
  {
   "cell_type": "code",
   "execution_count": 8,
   "id": "d7cbda6c",
   "metadata": {},
   "outputs": [],
   "source": [
    "df = df.drop(['Age'], axis=1)"
   ]
  },
  {
   "cell_type": "code",
   "execution_count": 9,
   "id": "dacb4dbe",
   "metadata": {},
   "outputs": [
    {
     "name": "stdout",
     "output_type": "stream",
     "text": [
      "\n",
      "Cleaned Data (Marks > 75, Gender M/F mapped to 0/1):\n",
      "    NAME  Gender  Marks\n",
      "0    jay     0.0     90\n",
      "2  nisha     1.0     80\n",
      "3   neha     1.0     84\n",
      "5   riya     0.0     86\n"
     ]
    }
   ],
   "source": [
    "print(\"\\nCleaned Data (Marks > 75, Gender M/F mapped to 0/1):\")\n",
    "print(df)"
   ]
  },
  {
   "cell_type": "code",
   "execution_count": null,
   "id": "568ca253",
   "metadata": {},
   "outputs": [],
   "source": []
  },
  {
   "cell_type": "code",
   "execution_count": null,
   "id": "c00f597c",
   "metadata": {},
   "outputs": [],
   "source": []
  },
  {
   "cell_type": "code",
   "execution_count": null,
   "id": "fbbeba8c",
   "metadata": {},
   "outputs": [],
   "source": []
  }
 ],
 "metadata": {
  "kernelspec": {
   "display_name": "Python 3",
   "language": "python",
   "name": "python3"
  },
  "language_info": {
   "codemirror_mode": {
    "name": "ipython",
    "version": 3
   },
   "file_extension": ".py",
   "mimetype": "text/x-python",
   "name": "python",
   "nbconvert_exporter": "python",
   "pygments_lexer": "ipython3",
   "version": "3.13.3"
  }
 },
 "nbformat": 4,
 "nbformat_minor": 5
}
