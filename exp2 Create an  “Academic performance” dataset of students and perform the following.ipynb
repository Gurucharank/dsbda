{
 "cells": [
  {
   "cell_type": "code",
   "execution_count": 34,
   "id": "2dfb0712-9694-4f9b-a2d0-1cf3b092b762",
   "metadata": {},
   "outputs": [],
   "source": [
    "import pandas as pd\n",
    "import numpy as np"
   ]
  },
  {
   "cell_type": "code",
   "execution_count": 35,
   "id": "1bb123a6-4c5f-4b7d-af9b-b953667a5751",
   "metadata": {},
   "outputs": [
    {
     "name": "stdout",
     "output_type": "stream",
     "text": [
      "     Sno gender NationalITy PlaceofBirth       StageID GradeID SectionID  \\\n",
      "0      1      M          KW       KuwaIT    lowerlevel    G-04         A   \n",
      "1      2      M          KW       KuwaIT    lowerlevel    G-04         A   \n",
      "2      3      M          KW       KuwaIT    lowerlevel    G-04         A   \n",
      "3      4      M          KW       KuwaIT    lowerlevel    G-04         A   \n",
      "4      5      M          KW       KuwaIT    lowerlevel    G-04         A   \n",
      "..   ...    ...         ...          ...           ...     ...       ...   \n",
      "475  476      F      Jordan       Jordan  MiddleSchool    G-08         A   \n",
      "476  477      F      Jordan       Jordan  MiddleSchool    G-08         A   \n",
      "477  478      F      Jordan       Jordan  MiddleSchool    G-08         A   \n",
      "478  479      F      Jordan       Jordan  MiddleSchool    G-08         A   \n",
      "479  480      F      Jordan       Jordan  MiddleSchool    G-08         A   \n",
      "\n",
      "         Topic Semester Relation  raisedhands  VisITedResources  \\\n",
      "0           IT        F   Father           15                16   \n",
      "1           IT        F   Father           20                20   \n",
      "2           IT        F   Father           10                 7   \n",
      "3           IT        F   Father           30                25   \n",
      "4           IT        F   Father           40                50   \n",
      "..         ...      ...      ...          ...               ...   \n",
      "475  Chemistry        S   Father            5                 4   \n",
      "476    Geology        F   Father           50                77   \n",
      "477    Geology        S   Father           55                74   \n",
      "478    History        F   Father           30                17   \n",
      "479    History        S   Father           35                14   \n",
      "\n",
      "     AnnouncementsView  Discussion ParentAnsweringSurvey  \\\n",
      "0                    2        20.0                   Yes   \n",
      "1                    3        25.0                   Yes   \n",
      "2                    0        30.0                    No   \n",
      "3                    5        35.0                    No   \n",
      "4                   12        50.0                    No   \n",
      "..                 ...         ...                   ...   \n",
      "475                  5         8.0                    No   \n",
      "476                 14        28.0                    No   \n",
      "477                 25        29.0                    No   \n",
      "478                 14        57.0                    No   \n",
      "479                 23        62.0                    No   \n",
      "\n",
      "    ParentschoolSatisfaction StudentAbsenceDays Class  \n",
      "0                       Good            Under-7     M  \n",
      "1                       Good            Under-7     M  \n",
      "2                        Bad            Above-7     L  \n",
      "3                        Bad            Above-7     L  \n",
      "4                        Bad            Above-7     M  \n",
      "..                       ...                ...   ...  \n",
      "475                      Bad            Above-7     L  \n",
      "476                      Bad            Under-7     M  \n",
      "477                      Bad            Under-7     M  \n",
      "478                      Bad            Above-7     L  \n",
      "479                      Bad            Above-7     L  \n",
      "\n",
      "[480 rows x 18 columns]\n"
     ]
    }
   ],
   "source": [
    "data_frame=pd.read_csv(\"Academic_performace.csv\")\n",
    "print(data_frame)"
   ]
  },
  {
   "cell_type": "code",
   "execution_count": 36,
   "id": "610debcf-d26b-495d-896b-9f08143d4848",
   "metadata": {},
   "outputs": [
    {
     "name": "stdout",
     "output_type": "stream",
     "text": [
      "   Sno gender NationalITy PlaceofBirth     StageID GradeID SectionID Topic  \\\n",
      "0    1      M          KW       KuwaIT  lowerlevel    G-04         A    IT   \n",
      "1    2      M          KW       KuwaIT  lowerlevel    G-04         A    IT   \n",
      "2    3      M          KW       KuwaIT  lowerlevel    G-04         A    IT   \n",
      "3    4      M          KW       KuwaIT  lowerlevel    G-04         A    IT   \n",
      "4    5      M          KW       KuwaIT  lowerlevel    G-04         A    IT   \n",
      "\n",
      "  Semester Relation  raisedhands  VisITedResources  AnnouncementsView  \\\n",
      "0        F   Father           15                16                  2   \n",
      "1        F   Father           20                20                  3   \n",
      "2        F   Father           10                 7                  0   \n",
      "3        F   Father           30                25                  5   \n",
      "4        F   Father           40                50                 12   \n",
      "\n",
      "   Discussion ParentAnsweringSurvey ParentschoolSatisfaction  \\\n",
      "0        20.0                   Yes                     Good   \n",
      "1        25.0                   Yes                     Good   \n",
      "2        30.0                    No                      Bad   \n",
      "3        35.0                    No                      Bad   \n",
      "4        50.0                    No                      Bad   \n",
      "\n",
      "  StudentAbsenceDays Class  \n",
      "0            Under-7     M  \n",
      "1            Under-7     M  \n",
      "2            Above-7     L  \n",
      "3            Above-7     L  \n",
      "4            Above-7     M  \n"
     ]
    }
   ],
   "source": [
    "print(data_frame.head())"
   ]
  },
  {
   "cell_type": "code",
   "execution_count": 37,
   "id": "75e9340d-3d05-47a1-b466-f1bc59a56967",
   "metadata": {},
   "outputs": [
    {
     "name": "stdout",
     "output_type": "stream",
     "text": [
      "     Sno gender NationalITy PlaceofBirth       StageID GradeID SectionID  \\\n",
      "475  476      F      Jordan       Jordan  MiddleSchool    G-08         A   \n",
      "476  477      F      Jordan       Jordan  MiddleSchool    G-08         A   \n",
      "477  478      F      Jordan       Jordan  MiddleSchool    G-08         A   \n",
      "478  479      F      Jordan       Jordan  MiddleSchool    G-08         A   \n",
      "479  480      F      Jordan       Jordan  MiddleSchool    G-08         A   \n",
      "\n",
      "         Topic Semester Relation  raisedhands  VisITedResources  \\\n",
      "475  Chemistry        S   Father            5                 4   \n",
      "476    Geology        F   Father           50                77   \n",
      "477    Geology        S   Father           55                74   \n",
      "478    History        F   Father           30                17   \n",
      "479    History        S   Father           35                14   \n",
      "\n",
      "     AnnouncementsView  Discussion ParentAnsweringSurvey  \\\n",
      "475                  5         8.0                    No   \n",
      "476                 14        28.0                    No   \n",
      "477                 25        29.0                    No   \n",
      "478                 14        57.0                    No   \n",
      "479                 23        62.0                    No   \n",
      "\n",
      "    ParentschoolSatisfaction StudentAbsenceDays Class  \n",
      "475                      Bad            Above-7     L  \n",
      "476                      Bad            Under-7     M  \n",
      "477                      Bad            Under-7     M  \n",
      "478                      Bad            Above-7     L  \n",
      "479                      Bad            Above-7     L  \n"
     ]
    }
   ],
   "source": [
    "print(data_frame.tail())"
   ]
  },
  {
   "cell_type": "code",
   "execution_count": 38,
   "id": "03a031b8-456e-445c-9cc8-052829156f30",
   "metadata": {},
   "outputs": [
    {
     "name": "stdout",
     "output_type": "stream",
     "text": [
      "              Sno  raisedhands  VisITedResources  AnnouncementsView  \\\n",
      "count  480.000000   480.000000        480.000000         480.000000   \n",
      "mean   240.500000    46.775000         54.797917          38.462500   \n",
      "std    138.708327    30.779223         33.080007          30.095579   \n",
      "min      1.000000     0.000000          0.000000           0.000000   \n",
      "25%    120.750000    15.750000         20.000000          14.000000   \n",
      "50%    240.500000    50.000000         65.000000          33.000000   \n",
      "75%    360.250000    75.000000         84.000000          58.000000   \n",
      "max    480.000000   100.000000         99.000000         350.000000   \n",
      "\n",
      "       Discussion  \n",
      "count  478.000000  \n",
      "mean    43.278243  \n",
      "std     27.646238  \n",
      "min      1.000000  \n",
      "25%     20.000000  \n",
      "50%     39.000000  \n",
      "75%     70.000000  \n",
      "max     99.000000  \n"
     ]
    }
   ],
   "source": [
    "print(data_frame.describe())"
   ]
  },
  {
   "cell_type": "code",
   "execution_count": 39,
   "id": "18bd876b-70ba-49fc-97df-8156ceb50530",
   "metadata": {},
   "outputs": [
    {
     "name": "stdout",
     "output_type": "stream",
     "text": [
      "<class 'pandas.core.frame.DataFrame'>\n",
      "RangeIndex: 480 entries, 0 to 479\n",
      "Data columns (total 18 columns):\n",
      " #   Column                    Non-Null Count  Dtype  \n",
      "---  ------                    --------------  -----  \n",
      " 0   Sno                       480 non-null    int64  \n",
      " 1   gender                    480 non-null    object \n",
      " 2   NationalITy               480 non-null    object \n",
      " 3   PlaceofBirth              480 non-null    object \n",
      " 4   StageID                   480 non-null    object \n",
      " 5   GradeID                   480 non-null    object \n",
      " 6   SectionID                 480 non-null    object \n",
      " 7   Topic                     480 non-null    object \n",
      " 8   Semester                  480 non-null    object \n",
      " 9   Relation                  480 non-null    object \n",
      " 10  raisedhands               480 non-null    int64  \n",
      " 11  VisITedResources          480 non-null    int64  \n",
      " 12  AnnouncementsView         480 non-null    int64  \n",
      " 13  Discussion                478 non-null    float64\n",
      " 14  ParentAnsweringSurvey     480 non-null    object \n",
      " 15  ParentschoolSatisfaction  480 non-null    object \n",
      " 16  StudentAbsenceDays        480 non-null    object \n",
      " 17  Class                     480 non-null    object \n",
      "dtypes: float64(1), int64(4), object(13)\n",
      "memory usage: 67.6+ KB\n",
      "None\n"
     ]
    }
   ],
   "source": [
    "print(data_frame.info())"
   ]
  },
  {
   "cell_type": "code",
   "execution_count": 40,
   "id": "9fc77b8a-99d0-4e2f-9484-4e3f62d78479",
   "metadata": {},
   "outputs": [
    {
     "name": "stdout",
     "output_type": "stream",
     "text": [
      "(480, 18)\n"
     ]
    }
   ],
   "source": [
    "print(data_frame.shape)"
   ]
  },
  {
   "cell_type": "code",
   "execution_count": 41,
   "id": "3d21c7a4-8e88-4f4a-9c15-ad31847dd765",
   "metadata": {},
   "outputs": [
    {
     "name": "stdout",
     "output_type": "stream",
     "text": [
      "True\n"
     ]
    }
   ],
   "source": [
    "print(data_frame.isnull().any().any())"
   ]
  },
  {
   "cell_type": "code",
   "execution_count": 42,
   "id": "e0bdfbb8-010f-466c-86fb-108c5176f94e",
   "metadata": {},
   "outputs": [
    {
     "name": "stdout",
     "output_type": "stream",
     "text": [
      "Sno                         0\n",
      "gender                      0\n",
      "NationalITy                 0\n",
      "PlaceofBirth                0\n",
      "StageID                     0\n",
      "GradeID                     0\n",
      "SectionID                   0\n",
      "Topic                       0\n",
      "Semester                    0\n",
      "Relation                    0\n",
      "raisedhands                 0\n",
      "VisITedResources            0\n",
      "AnnouncementsView           0\n",
      "Discussion                  2\n",
      "ParentAnsweringSurvey       0\n",
      "ParentschoolSatisfaction    0\n",
      "StudentAbsenceDays          0\n",
      "Class                       0\n",
      "dtype: int64\n"
     ]
    }
   ],
   "source": [
    "print(data_frame.isnull().sum())"
   ]
  },
  {
   "cell_type": "code",
   "execution_count": 43,
   "id": "9ab57bed-f8e5-41b5-93e3-ddd6f4cf10cd",
   "metadata": {},
   "outputs": [
    {
     "name": "stdout",
     "output_type": "stream",
     "text": [
      "[ 1.21282069  1.17955855  1.27934496  1.11303428  0.88019931  0.84693718\n",
      "  1.27934496  0.7804129   0.74715076  0.44779153  0.28148084  0.64736435\n",
      "  1.27934496  0.88019931  0.18418909  0.54757794  0.61410221  0.11517015\n",
      "  0.08190801  0.05114054  0.18169443  1.14629641  1.21282069  1.21282069\n",
      "  1.17955855  0.28148084  0.44779153  0.88019931  0.45028619  0.18169443\n",
      "  0.38376191  0.05114054  0.94672359  0.97998573  1.01324786  0.71388863\n",
      "  1.14629641  0.41452939  1.27934496  0.04864588  1.17955855  0.74715076\n",
      "  1.04651     0.34800511  0.28148084  0.7804129   1.24608283  0.0178784\n",
      "  0.05114054  0.38376191  0.88019931  0.74715076  0.74715076  0.64736435\n",
      "  1.01324786  1.07977214  1.14629641  1.07977214  0.64736435  0.54757794\n",
      "  0.34800511  0.21495656  1.04900466  0.74715076  1.04651     0.68062649\n",
      "  0.64736435  0.5143158   0.11517015  0.91346145  0.94672359  0.97998573\n",
      "  1.21282069  0.41452939  1.07977214  0.31474298  0.04864588  0.18169443\n",
      "  0.91346145  0.35049977  0.94672359  1.24608283  1.21282069  0.94672359\n",
      "  0.38376191  1.24608283  0.05114054  1.17955855  1.14629641  1.24608283\n",
      "  0.94672359  0.5500726   0.64736435  0.05114054  0.11517015  1.21282069\n",
      "  0.91346145  0.01538374  1.27934496  0.97998573  0.05114054  0.38376191\n",
      "  1.21282069  1.07977214  1.17955855  1.11303428  1.04651     0.08440267\n",
      "  1.11303428  0.28148084  0.5500726   0.41702405  1.17955855  1.27934496\n",
      "  1.27934496  0.91346145  0.88019931  0.05114054  0.5143158   1.17955855\n",
      "  1.27934496  1.01324786  0.5500726   1.04651     1.14629641  1.27934496\n",
      "  1.04651     1.07977214  0.61410221  1.21282069  1.11303428  0.61410221\n",
      "  0.94672359  1.27934496  0.7804129   1.8805581   1.8805581   0.38376191\n",
      "  1.8805581   1.54793672  1.11303428  0.38376191  0.5500726   0.5500726\n",
      "  0.7804129   0.5500726   0.38376191  0.28148084  0.28148084  0.38376191\n",
      "  0.41702405  1.0822668   1.98034451  0.05114054  0.18169443  1.14879107\n",
      "  0.28148084  0.18169443  0.31723764  0.31723764  0.64985901  0.64985901\n",
      "  1.17955855  1.81403382  1.48141245  1.14879107  0.48354832  1.48141245\n",
      "  0.5143158   0.31474298  1.48141245  0.5143158   0.48354832  0.5143158\n",
      "  1.14879107  0.84693718  0.5143158   1.48141245  0.18169443  0.61410221\n",
      "  0.8161697   0.84693718  0.78290756  0.21495656  0.28148084  1.44815031\n",
      "  0.54757794  0.45028619  1.11552894  0.88019931  0.21495656  0.04864588\n",
      "  0.78290756  0.78290756  1.11552894  0.11766481  0.78290756  0.78290756\n",
      "  0.11766481  0.88019931  0.45028619  0.45028619  0.88019931  0.11766481\n",
      "  0.88019931  0.11766481  0.11766481  0.11766481  0.35049977  0.0178784\n",
      "  1.44815031  0.11766481  0.11766481  0.54757794  1.21282069  0.11766481\n",
      "  0.21495656  0.05114054  0.11766481  0.25071336  0.08440267  0.05114054\n",
      "  1.44815031  0.88019931  0.54757794  0.88019931  0.78290756  1.21282069\n",
      "  1.28183962  0.58084008  0.88019931  0.58084008  0.7804129   0.64985901\n",
      "  0.64985901  0.68062649  0.84693718  0.64985901  0.64985901  1.64772314\n",
      "  1.98034451  0.64985901  0.68062649  0.01538374  1.48141245  0.45028619\n",
      "  0.78290756  1.44815031  1.21282069  0.78290756  0.21495656  0.21495656\n",
      "  1.44815031  0.88019931  0.11766481  0.88019931  1.11552894  0.91595611\n",
      "  1.58119886  0.88019931  0.88019931  1.44815031  0.45028619  0.11766481\n",
      "  0.11766481  1.44815031  0.88019931  0.21495656  0.94672359  0.05114054\n",
      "  0.45028619  0.21495656  1.21282069  1.07977214  1.44815031  1.38162604\n",
      "  0.54757794  0.11766481  0.45028619  0.25071336  0.58333474  0.58333474\n",
      "  1.11552894  1.44815031  0.21495656  0.11517015  1.54793672  1.74750955\n",
      "  0.88269397  1.24857749  0.21495656  0.88019931  1.44815031  1.11552894\n",
      "  1.44815031  1.11552894  1.58119886  1.44815031  0.41452939  0.21495656\n",
      "  0.61410221  0.7804129   0.58084008  0.44779153  0.48105366  0.31474298\n",
      "  1.18205321  0.68312115  1.18205321  1.3483639   0.14843229  0.31474298\n",
      "  0.18418909  1.01574252  1.18205321  1.68098527  1.48141245  1.48141245\n",
      "  0.84693718  0.5143158   0.5143158   0.61410221  0.94672359  0.61410221\n",
      "  0.68062649  0.18169443  0.94672359  0.61410221  0.8161697   1.14879107\n",
      "  0.38376191  0.31474298  0.28148084  0.31474298  0.97998573  0.88019931\n",
      "  0.61410221  0.7804129   0.94672359  0.91346145  0.7804129   0.84693718\n",
      "  0.38376191  0.31474298  0.7804129   0.61410221  0.7804129   0.61410221\n",
      "  0.97998573  0.88019931  1.07977214  0.91346145  0.05114054  0.58084008\n",
      "  0.11766481  0.08440267  0.21495656  0.58084008  0.45028619  0.41702405\n",
      "  0.2482187   0.08440267  0.08440267  0.41702405  0.58084008  0.2482187\n",
      "  1.0822668   0.41702405  0.71638329  0.41702405  0.38376191  0.31474298\n",
      "  0.54757794  0.64736435  0.05114054  0.31474298  0.38376191  0.68312115\n",
      "  0.38376191  0.68312115  0.61410221  0.31474298  0.61410221  0.31474298\n",
      "  0.05114054  0.35049977  0.58084008  0.2482187   0.91346145  1.24608283\n",
      "  0.38376191  0.51681046  0.38376191  0.61659687  0.38376191  0.51681046\n",
      "  0.25071336  0.68312115  1.58119886  1.68098527  0.05114054  0.14843229\n",
      "  1.38162604  0.84943184  1.04900466  1.614461    0.94672359  0.64736435\n",
      "  0.94672359  0.97998573  0.88019931  0.64736435  0.91595611  1.3483639\n",
      "  1.21282069  0.97998573  1.58119886  1.68098527  1.24857749 10.36240316\n",
      "  0.54757794  0.31474298  0.25071336  0.35049977  1.24857749  1.3483639\n",
      "  0.78290756  1.01574252  1.21282069  0.97998573  0.54757794  0.5143158\n",
      "  0.78290756  1.14879107  1.11552894  1.3483639   1.0822668   1.04900466\n",
      "  1.24857749  1.21531535  1.58119886  1.54793672  1.24857749  0.88269397\n",
      "  0.84943184  0.91595611  1.18205321  0.94921825  1.18205321  1.28183962\n",
      "  0.54757794  0.61410221  0.45028619  0.05114054  0.61659687  0.15092695\n",
      "  0.45028619  0.35049977  1.38162604  1.38162604  1.44815031  1.48141245\n",
      "  1.11552894  1.48141245  0.11766481  0.21745122  0.84943184  0.8161697\n",
      "  0.81367504  0.7804129   1.58119886  1.31510176  1.18205321  1.3483639\n",
      "  1.14629641  1.11303428  0.81367504  0.44779153  0.81367504  0.5143158 ]\n",
      "(array([419]),)\n"
     ]
    },
    {
     "data": {
      "image/png": "[encoded data removed]",
      "text/plain": [
       "<Figure size 640x480 with 1 Axes>"
      ]
     },
     "metadata": {},
     "output_type": "display_data"
    }
   ],
   "source": [
    "import seaborn as sns\n",
    "import matplotlib.pyplot as plt\n",
    "from scipy import stats\n",
    "x=data_frame['Sno']\n",
    "y=data_frame['AnnouncementsView']\n",
    "sns.regplot(x='Sno', y='AnnouncementsView',data=data_frame)\n",
    "sns.boxplot(x=data_frame['AnnouncementsView'])\n",
    "z=np.abs(stats.zscore(data_frame['AnnouncementsView']))\n",
    "print(z)\n",
    "threshold=3\n",
    "print(np.where(z>3))"
   ]
  },
  {
   "cell_type": "code",
   "execution_count": 44,
   "id": "ac7e1c6c-2d06-4943-b782-8f2f156bb1e1",
   "metadata": {},
   "outputs": [
    {
     "name": "stdout",
     "output_type": "stream",
     "text": [
      "   Income  Age  Department\n",
      "0   15000   25          HR\n",
      "1    1000   18       Legal\n",
      "2  120000   42   Marketing\n",
      "3   10000   51  Management\n"
     ]
    }
   ],
   "source": [
    "df=pd.DataFrame({\n",
    "    'Income':[15000,1000,120000,10000],\n",
    "    'Age':[25,18,42,51],\n",
    "    'Department':['HR','Legal','Marketing','Management']})\n",
    "print(df)\n",
    "df_scaled=df.copy()\n",
    "col_names=['Income','Age']\n",
    "features=df_scaled[col_names]"
   ]
  },
  {
   "cell_type": "code",
   "execution_count": null,
   "id": "f6f23728-f3f0-4d7f-965f-124a7392b0ed",
   "metadata": {},
   "outputs": [],
   "source": []
  }
 ],
 "metadata": {
  "kernelspec": {
   "display_name": "Python 3",
   "language": "python",
   "name": "python3"
  },
  "language_info": {
   "codemirror_mode": {
    "name": "ipython",
    "version": 3
   },
   "file_extension": ".py",
   "mimetype": "text/x-python",
   "name": "python",
   "nbconvert_exporter": "python",
   "pygments_lexer": "ipython3",
   "version": "3.13.3"
  }
 },
 "nbformat": 4,
 "nbformat_minor": 5
}
